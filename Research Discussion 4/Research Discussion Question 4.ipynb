{
 "cells": [
  {
   "cell_type": "markdown",
   "metadata": {},
   "source": [
    "## <center> Research Discussion Question 4: Mitigating the Harm of Recommender Systems </center>\n",
    "\n",
    "Read one or more of the articles below and consider how to counter the radicalizing effects of recommender systems or ways to prevent algorithmic discrimination.\n",
    "\n",
    "Renee Diresta, Wired.com (2018): Up Next: A Better Recommendation System\n",
    "\n"
   ]
  },
  {
   "cell_type": "markdown",
   "metadata": {},
   "source": [
    "### <center> Discussion</center>\n",
    "\n",
    "The first proposal that I would make is that these sites, Pininterest, Youtube, Facebook, etc. are making honest recommendations based on an algorithm.  That they are not being paid by a content creator or advertiser to recommend their content to you.  These sites should disclose how recommendations are being made.\n"
   ]
  },
  {
   "cell_type": "markdown",
   "metadata": {},
   "source": [
    "The second proposal that I would make is to empower the user to have a greater say in what content gets recommended. As the article states, \"Giving people more control over what their algorithmic feed serves up is one potential solution. Twitter, for example, created a filter that enables users to avoid content from low-quality accounts. Not everyone uses it, but the option exists.\" Inform users how the recommendation system works and give them a choice on how they want it to recommend content to them. The downside to this is that users may not be exposed to content out of their comfort zone. \n",
    "\n"
   ]
  },
  {
   "cell_type": "markdown",
   "metadata": {},
   "source": [
    "### <center> Choice Architecture </center>\n",
    "\n",
    "\n",
    "From the article, \"Ultimately, we’re talking about <b>choice architecture</b>, a term for the way that information or products are presented to people in a manner that takes into account individual or societal welfare while preserving consumer choice.\" \n",
    "\n",
    "<u>From Wikipedia:</u>\n",
    "\"Choice architecture is the design of different ways in which choices can be presented to consumers, and the impact of that presentation on consumer decision-making. For example, each of the following:\n",
    "\n",
    "the number of choices presented <br />\n",
    "the manner in which attributes are described<br />\n",
    "the presence of a \"default\"<br /><br />\n",
    "can influence consumer choice. As a result, advocates of libertarian paternalism and asymmetric paternalism have endorsed the deliberate design of choice architecture to nudge consumers toward personally and socially desirable behaviors like saving for retirement, choosing healthier foods, or registering as an organ donor.\"\n",
    "https://en.wikipedia.org/wiki/Choice_architecture\n",
    "\n",
    "\n",
    "In essence, Choice Architecture is a means to \"nudge\" a user to make better choices by manipulating the total number of recommendations, product attributes, and giving them a default choice, e.g. making organ donation the default choice but giving users the option to opt out.\n",
    "\n",
    "\n"
   ]
  },
  {
   "cell_type": "markdown",
   "metadata": {},
   "source": [
    "In a Medium blog post titled, \"Recommender Systems: Ethics and Confidentiality\" by Tatenda, she makes some suggestions as to how to apply the principles of Choice Architecture to Recommendation systems:\n",
    "\n",
    "\"Ethical filters: Provide user-adjustable “ethical filters” that screen the items that can be recommended based on the user’s specified ethical preferences. This gives users control over the sensitive aspects of recommendations.\" \n",
    "\n",
    "The ethical filter limits the number of choices and attributes.\n",
    "\n",
    "\"Diverse content: Couple recommender systems with diverse content. The value of exposure to diverse content can be safeguarded from a variety of perspectives, ranging from monetary, personal fulfillment, development of cultural tastes, promotion of tolerance and intercultural understanding.\"\n",
    "\n",
    "This is the \"nudge\" portion of Choice Architecture. \n",
    "\n",
    "https://medium.com/@tatendambz/recommender-systems-ethics-and-confidentiality-717234379e54"
   ]
  },
  {
   "cell_type": "code",
   "execution_count": null,
   "metadata": {},
   "outputs": [],
   "source": []
  }
 ],
 "metadata": {
  "kernelspec": {
   "display_name": "Python 3",
   "language": "python",
   "name": "python3"
  },
  "language_info": {
   "codemirror_mode": {
    "name": "ipython",
    "version": 3
   },
   "file_extension": ".py",
   "mimetype": "text/x-python",
   "name": "python",
   "nbconvert_exporter": "python",
   "pygments_lexer": "ipython3",
   "version": "3.7.6"
  }
 },
 "nbformat": 4,
 "nbformat_minor": 4
}
